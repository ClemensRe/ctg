{
 "cells": [
  {
   "cell_type": "code",
   "execution_count": null,
   "id": "94c41210",
   "metadata": {},
   "outputs": [],
   "source": [
    "import pathlib\n",
    "\n",
    "import matplotlib.pyplot as plt\n",
    "import numpy as np\n",
    "import pandas as pd\n",
    "import seaborn as sns"
   ]
  },
  {
   "cell_type": "markdown",
   "id": "55491a6d-f4c9-4f5c-b168-34fa81022934",
   "metadata": {},
   "source": [
    "# Data Cleaning\n",
    "Done manually because Excel file format was not supported."
   ]
  },
  {
   "cell_type": "code",
   "execution_count": null,
   "id": "6a5b8f09",
   "metadata": {},
   "outputs": [],
   "source": [
    "cleaned_data_path = pathlib.Path(\"../data/interim/ctg_cleaned_manually.xlsx\")"
   ]
  },
  {
   "cell_type": "code",
   "execution_count": null,
   "id": "af508f4a",
   "metadata": {},
   "outputs": [],
   "source": [
    "data = pd.read_excel(cleaned_data_path, header=0)"
   ]
  },
  {
   "cell_type": "code",
   "execution_count": null,
   "id": "9874a0c5",
   "metadata": {},
   "outputs": [],
   "source": [
    "data.info()"
   ]
  },
  {
   "cell_type": "markdown",
   "id": "cd6f2375-b720-4059-a2c7-1a1909786b0b",
   "metadata": {},
   "source": [
    "## Data Split into Model Input and Output\n",
    "From the description of the dataset it is given that there are 19 input values and two possible output values with 3 and 10 classes."
   ]
  },
  {
   "cell_type": "code",
   "execution_count": null,
   "id": "815146e8",
   "metadata": {},
   "outputs": [],
   "source": [
    "x_raw = data.loc[:, \"Min\":\"SUSP\"]\n",
    "y_raw = data.loc[:, \"CLASS\":\"NSP\"]"
   ]
  },
  {
   "cell_type": "markdown",
   "id": "6bde2d2f-1ea2-47aa-aaf6-d65d745ae59e",
   "metadata": {},
   "source": [
    "## Analysis of Continous Input Values"
   ]
  },
  {
   "cell_type": "code",
   "execution_count": null,
   "id": "1be0f67d",
   "metadata": {},
   "outputs": [],
   "source": [
    "_ = x_raw.loc[:, \"Min\":\"Variance\"].hist(figsize=(20, 20))"
   ]
  },
  {
   "cell_type": "markdown",
   "id": "826bc7a6-dfd6-4f8d-9c7d-a2e82b1152ed",
   "metadata": {},
   "source": [
    "## Analysis of discrete Input Values"
   ]
  },
  {
   "cell_type": "code",
   "execution_count": null,
   "id": "672a5eb7",
   "metadata": {},
   "outputs": [],
   "source": [
    "for column in x_raw.loc[:, \"Tendency\":\"SUSP\"].columns:\n",
    "    x_raw[column].value_counts().sort_index().plot(\n",
    "        kind=\"bar\",\n",
    "        figsize=(5, 5),\n",
    "        title=column,\n",
    "        yticks=range(0, 2200, 250),\n",
    "        grid=\"major\",\n",
    "    )\n",
    "    plt.show()"
   ]
  },
  {
   "cell_type": "markdown",
   "id": "59091ec8-2237-4723-bdb0-a1afdead42f5",
   "metadata": {},
   "source": [
    "## Analysis of discrete Output Values"
   ]
  },
  {
   "cell_type": "code",
   "execution_count": null,
   "id": "2ec03c1c",
   "metadata": {},
   "outputs": [],
   "source": [
    "for column in y_raw.columns:\n",
    "    y_raw[column].value_counts().sort_index().plot(\n",
    "        kind=\"bar\", title=column, yticks=range(0, 2200, 250), grid=\"major\"\n",
    "    )\n",
    "    plt.show()"
   ]
  },
  {
   "cell_type": "markdown",
   "id": "e84fbe1e-77bf-486b-b134-c5178ebe5093",
   "metadata": {},
   "source": [
    "## Correlation of Input Values"
   ]
  },
  {
   "cell_type": "code",
   "execution_count": null,
   "id": "911d6b8a",
   "metadata": {},
   "outputs": [],
   "source": [
    "corr = x_raw.corr()\n",
    "sns.heatmap(\n",
    "    corr,\n",
    "    xticklabels=corr.columns,\n",
    "    yticklabels=corr.columns,\n",
    "    vmin=-1,\n",
    "    vmax=1,\n",
    "    square=True,\n",
    ")"
   ]
  }
 ],
 "metadata": {
  "kernelspec": {
   "display_name": "Python 3 (ipykernel)",
   "language": "python",
   "name": "python"
  },
  "language_info": {
   "codemirror_mode": {
    "name": "ipython",
    "version": 3
   },
   "file_extension": ".py",
   "mimetype": "text/x-python",
   "name": "python",
   "nbconvert_exporter": "python",
   "pygments_lexer": "ipython3",
   "version": "3.8.10"
  }
 },
 "nbformat": 4,
 "nbformat_minor": 5
}
