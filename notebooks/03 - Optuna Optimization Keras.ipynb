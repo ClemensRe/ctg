{
 "cells": [
  {
   "cell_type": "code",
   "execution_count": null,
   "id": "e453c8d6-c31a-49b5-b337-3478e23352c7",
   "metadata": {},
   "outputs": [],
   "source": [
    "import pathlib\n",
    "\n",
    "import numpy as np\n",
    "import optuna\n",
    "import pandas as pd\n",
    "import tensorflow as tf\n",
    "from sklearn.preprocessing import MinMaxScaler, Normalizer, RobustScaler"
   ]
  },
  {
   "cell_type": "code",
   "execution_count": null,
   "id": "e1767d7c-7293-4259-a526-711b74f60bee",
   "metadata": {},
   "outputs": [],
   "source": [
    "gpus = tf.config.experimental.list_physical_devices(\"GPU\")\n",
    "for gpu in gpus:\n",
    "    tf.config.experimental.set_memory_growth(gpu, True)"
   ]
  },
  {
   "cell_type": "code",
   "execution_count": null,
   "id": "9a779eaa-94b0-40b8-a917-8395665b14a4",
   "metadata": {},
   "outputs": [],
   "source": [
    "N_INPUTS = 19\n",
    "N_CLASSES = 3"
   ]
  },
  {
   "cell_type": "code",
   "execution_count": null,
   "id": "da0084e1-8408-44f0-bbcc-1dc840f87efe",
   "metadata": {},
   "outputs": [],
   "source": [
    "def objective(trial):\n",
    "    cleaned_data_path = pathlib.Path(\"../data/interim/ctg_cleaned_manually.xlsx\")\n",
    "    data = pd.read_excel(cleaned_data_path, header=0)\n",
    "    x_raw = data.loc[:, \"Min\":\"SUSP\"].to_numpy()\n",
    "    y_raw_nsp = data.loc[:, \"NSP\"].to_numpy()\n",
    "    y_nsp_one_hot = tf.one_hot(indices=y_raw_nsp, depth=max(y_raw_nsp)).numpy()\n",
    "\n",
    "    x_train = x_raw[:1913]\n",
    "    x_test = x_raw[1913:]\n",
    "    y_train = y_nsp_one_hot[:1913]\n",
    "    y_test = y_nsp_one_hot[1913:]\n",
    "\n",
    "    n_layers = trial.suggest_int(\"n_layers\", 1, 3)\n",
    "    batch_size = trial.suggest_int(\"batch_size\", 1, 64, log=True)\n",
    "    learning_rate = trial.suggest_loguniform(\"learning_rate\", 1e-6, 1e-3)\n",
    "    epochs = trial.suggest_int(\"epochs\", 5, 50, 5)\n",
    "    batch_norm = trial.suggest_categorical(\"batch norm\", [True, False])\n",
    "    normalize = trial.suggest_categorical(\"normalize\", [\"minmax\", \"meanstd\", \"robust\"])\n",
    "\n",
    "    if normalize == \"minmax\":\n",
    "        scaler = MinMaxScaler()\n",
    "        scaler.fit(x_train)\n",
    "        x_train = scaler.transform(x_train)\n",
    "        x_test = scaler.transform(x_test)\n",
    "    elif normalize == \"meanstd\":\n",
    "        scaler = Normalizer()\n",
    "        scaler.fit(x_train)\n",
    "        x_train = scaler.transform(x_train)\n",
    "        x_test = scaler.transform(x_test)\n",
    "    elif normalize == \"robust\":\n",
    "        scaler = RobustScaler()\n",
    "        scaler.fit(x_train)\n",
    "        x_train = scaler.transform(x_train)\n",
    "        x_test = scaler.transform(x_test)\n",
    "\n",
    "    model = tf.keras.Sequential()\n",
    "    model.add(tf.keras.layers.Dense(units=N_INPUTS, activation=\"relu\"))\n",
    "\n",
    "    for i in range(n_layers):\n",
    "        num_hidden = trial.suggest_int(\"n_units_l{}\".format(i), 4, 128, log=True)\n",
    "        model.add(tf.keras.layers.Dense(num_hidden, activation=\"relu\"))\n",
    "        if batch_norm:\n",
    "            model.add(tf.keras.layers.BatchNormalization())\n",
    "\n",
    "    model.add(tf.keras.layers.Dense(N_CLASSES, activation=\"sigmoid\"))\n",
    "\n",
    "    optimizer = tf.keras.optimizers.Adam(learning_rate=learning_rate)\n",
    "    model.compile(\n",
    "        optimizer=optimizer,\n",
    "        loss=\"categorical_crossentropy\",\n",
    "        metrics=\"categorical_accuracy\",\n",
    "    )\n",
    "    model.fit(\n",
    "        x=x_train,\n",
    "        y=y_train,\n",
    "        batch_size=batch_size,\n",
    "        validation_split=0.2,\n",
    "        epochs=epochs,\n",
    "        verbose=0,\n",
    "    )\n",
    "    [loss, accuracy] = model.evaluate(x=x_test, y=y_test)\n",
    "    if accuracy >= 0.9953:\n",
    "        model.save(f\"../models/optuna_keras\")\n",
    "    return accuracy"
   ]
  },
  {
   "cell_type": "code",
   "execution_count": null,
   "id": "9d7aa28c-5e25-4f55-93b4-8fd0136ceea3",
   "metadata": {},
   "outputs": [],
   "source": [
    "study = optuna.create_study(\n",
    "    storage=\"sqlite:///../database/study/keras_mlp_win10.sqlite\",\n",
    "    sampler=optuna.samplers.TPESampler(seed=42),\n",
    "    direction=\"maximize\",\n",
    "    study_name=\"keras_mlp\",\n",
    "    load_if_exists=True,\n",
    ")\n",
    "study.optimize(objective, n_trials=100, n_jobs=8)"
   ]
  },
  {
   "cell_type": "code",
   "execution_count": null,
   "id": "a60cee53-c106-4234-bc58-8892e139dcc5",
   "metadata": {},
   "outputs": [],
   "source": [
    "study.best_params"
   ]
  },
  {
   "cell_type": "code",
   "execution_count": null,
   "id": "7f78da6c-f929-4589-9649-28170881d591",
   "metadata": {},
   "outputs": [],
   "source": [
    "cleaned_data_path = pathlib.Path(\"../data/interim/ctg_cleaned_manually.xlsx\")\n",
    "data = pd.read_excel(cleaned_data_path, header=0)\n",
    "x_raw = data.loc[:, \"Min\":\"SUSP\"].to_numpy()\n",
    "y_raw_nsp = data.loc[:, \"NSP\"].to_numpy()\n",
    "y_nsp_one_hot = tf.one_hot(indices=y_raw_nsp, depth=max(y_raw_nsp)).numpy()\n",
    "\n",
    "x_train = x_raw[:1913]\n",
    "x_test = x_raw[1913:]\n",
    "y_train = y_nsp_one_hot[:1913]\n",
    "y_test = y_nsp_one_hot[1913:]\n",
    "\n",
    "scaler = MinMaxScaler()\n",
    "scaler.fit(x_train)\n",
    "x_train = scaler.transform(x_train)\n",
    "x_test = scaler.transform(x_test)"
   ]
  },
  {
   "cell_type": "code",
   "execution_count": null,
   "id": "dfc4926a-fe94-49c6-847d-ccb83a86ed26",
   "metadata": {},
   "outputs": [],
   "source": [
    "model = tf.keras.models.load_model(\"../models/optuna_keras/\")\n",
    "\n",
    "[loss, accuracy] = model.evaluate(x=x_test, y=y_test)"
   ]
  },
  {
   "cell_type": "code",
   "execution_count": null,
   "id": "dd413ab5-fd59-4655-bddb-d4df96a92b81",
   "metadata": {},
   "outputs": [],
   "source": [
    "%%timeit\n",
    "model.predict(x_test[0:1])"
   ]
  }
 ],
 "metadata": {
  "kernelspec": {
   "display_name": "Python 3 (ipykernel)",
   "language": "python",
   "name": "python3"
  },
  "language_info": {
   "codemirror_mode": {
    "name": "ipython",
    "version": 3
   },
   "file_extension": ".py",
   "mimetype": "text/x-python",
   "name": "python",
   "nbconvert_exporter": "python",
   "pygments_lexer": "ipython3",
   "version": "3.8.10"
  }
 },
 "nbformat": 4,
 "nbformat_minor": 5
}
