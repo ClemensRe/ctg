{
 "cells": [
  {
   "cell_type": "code",
   "execution_count": 1,
   "id": "27613dc0-ce0e-4f6d-a216-326c97c29563",
   "metadata": {},
   "outputs": [],
   "source": [
    "import numpy as np\n",
    "import pathlib\n",
    "import pandas as pd\n",
    "\n",
    "import tensorflow as tf"
   ]
  },
  {
   "cell_type": "code",
   "execution_count": 2,
   "id": "42f11b85-a7c0-4ac1-bb59-f836f1b72a9c",
   "metadata": {},
   "outputs": [
    {
     "data": {
      "text/plain": [
       "1913.4"
      ]
     },
     "execution_count": 2,
     "metadata": {},
     "output_type": "execute_result"
    }
   ],
   "source": [
    "0.9 * 2126"
   ]
  },
  {
   "cell_type": "code",
   "execution_count": 3,
   "id": "cc8b89e4-1ee6-44c6-b10c-62196b7a09ad",
   "metadata": {},
   "outputs": [],
   "source": [
    "cleaned_data_path = pathlib.Path(\"../data/interim/ctg_cleaned_manually.xlsx\")\n",
    "data = pd.read_excel(cleaned_data_path,header=0)\n",
    "x_raw = data.loc[:, \"Min\":\"SUSP\"].to_numpy()\n",
    "y_raw_class = data.loc[:, \"CLASS\"].to_numpy()\n",
    "y_raw_nsp = data.loc[:, \"NSP\"].to_numpy()"
   ]
  },
  {
   "cell_type": "code",
   "execution_count": 4,
   "id": "5a1739cf-6728-439b-8f0c-4688c3e27bb6",
   "metadata": {},
   "outputs": [],
   "source": [
    "y_class_one_hot  = tf.one_hot(indices=y_raw_class,depth=max(y_raw_class)).numpy()\n",
    "y_nsp_one_hot = tf.one_hot(indices=y_raw_nsp,depth=max(y_raw_nsp)).numpy()"
   ]
  },
  {
   "cell_type": "code",
   "execution_count": 5,
   "id": "b56edb69-6096-4297-baf6-dee48e827503",
   "metadata": {},
   "outputs": [],
   "source": [
    "x_train = x_raw[:1913]\n",
    "x_test = x_raw[1913:]\n",
    "y_train = y_nsp_one_hot[:1913]\n",
    "y_test = y_nsp_one_hot[1913:]"
   ]
  },
  {
   "cell_type": "code",
   "execution_count": 6,
   "id": "74c58f38-fa38-4b59-88c6-498c23e2f4d0",
   "metadata": {},
   "outputs": [],
   "source": [
    "BATCH_SIZE = 4\n",
    "EPOCHS = 15"
   ]
  },
  {
   "cell_type": "code",
   "execution_count": 7,
   "id": "de283b8b-980c-41d4-9f34-a36cf038015c",
   "metadata": {},
   "outputs": [],
   "source": [
    "model = tf.keras.Sequential()\n",
    "model.add(tf.keras.layers.Dense(units=19,activation=\"relu\"))\n",
    "model.add(tf.keras.layers.BatchNormalization())\n",
    "model.add(tf.keras.layers.Dense(units=128,activation=\"relu\"))\n",
    "model.add(tf.keras.layers.BatchNormalization())\n",
    "model.add(tf.keras.layers.Dense(units=3,activation=\"sigmoid\"))"
   ]
  },
  {
   "cell_type": "code",
   "execution_count": 8,
   "id": "28cc6b1a-b159-4108-a6cb-f3a073e64416",
   "metadata": {},
   "outputs": [],
   "source": [
    "model.compile(optimizer=\"adam\",loss=\"categorical_crossentropy\",metrics=\"categorical_accuracy\")"
   ]
  },
  {
   "cell_type": "code",
   "execution_count": 9,
   "id": "f4a45565-8b73-4d7a-abd6-c30e572cd2f1",
   "metadata": {},
   "outputs": [],
   "source": [
    "model.build(input_shape=(BATCH_SIZE, x_raw.shape[1]))"
   ]
  },
  {
   "cell_type": "code",
   "execution_count": 10,
   "id": "5996fe7b-6d01-4bcd-86f6-b4533962832f",
   "metadata": {},
   "outputs": [
    {
     "name": "stdout",
     "output_type": "stream",
     "text": [
      "Model: \"sequential\"\n",
      "_________________________________________________________________\n",
      "Layer (type)                 Output Shape              Param #   \n",
      "=================================================================\n",
      "dense (Dense)                (4, 19)                   380       \n",
      "_________________________________________________________________\n",
      "batch_normalization (BatchNo (4, 19)                   76        \n",
      "_________________________________________________________________\n",
      "dense_1 (Dense)              (4, 128)                  2560      \n",
      "_________________________________________________________________\n",
      "batch_normalization_1 (Batch (4, 128)                  512       \n",
      "_________________________________________________________________\n",
      "dense_2 (Dense)              (4, 3)                    387       \n",
      "=================================================================\n",
      "Total params: 3,915\n",
      "Trainable params: 3,621\n",
      "Non-trainable params: 294\n",
      "_________________________________________________________________\n"
     ]
    }
   ],
   "source": [
    "model.summary()"
   ]
  },
  {
   "cell_type": "code",
   "execution_count": 11,
   "id": "dbff4c3a-e3f4-49bd-a3ee-fefca3002406",
   "metadata": {},
   "outputs": [
    {
     "name": "stdout",
     "output_type": "stream",
     "text": [
      "Epoch 1/15\n",
      "383/383 [==============================] - 1s 1ms/step - loss: 0.5785 - categorical_accuracy: 0.7216 - val_loss: 0.0681 - val_categorical_accuracy: 0.8721\n",
      "Epoch 2/15\n",
      "383/383 [==============================] - 0s 829us/step - loss: 0.3404 - categorical_accuracy: 0.8176 - val_loss: 0.1669 - val_categorical_accuracy: 0.8460\n",
      "Epoch 3/15\n",
      "383/383 [==============================] - 0s 838us/step - loss: 0.2824 - categorical_accuracy: 0.8484 - val_loss: 0.2039 - val_categorical_accuracy: 0.7963\n",
      "Epoch 4/15\n",
      "383/383 [==============================] - 0s 819us/step - loss: 0.2635 - categorical_accuracy: 0.8549 - val_loss: 0.0460 - val_categorical_accuracy: 0.8564\n",
      "Epoch 5/15\n",
      "383/383 [==============================] - 0s 858us/step - loss: 0.2751 - categorical_accuracy: 0.8497 - val_loss: 0.8305 - val_categorical_accuracy: 0.3603\n",
      "Epoch 6/15\n",
      "383/383 [==============================] - 0s 832us/step - loss: 0.2606 - categorical_accuracy: 0.8569 - val_loss: 2.8913 - val_categorical_accuracy: 0.0757\n",
      "Epoch 7/15\n",
      "383/383 [==============================] - 0s 858us/step - loss: 0.2667 - categorical_accuracy: 0.8490 - val_loss: 1.8790 - val_categorical_accuracy: 0.1932\n",
      "Epoch 8/15\n",
      "383/383 [==============================] - 0s 828us/step - loss: 0.2425 - categorical_accuracy: 0.8529 - val_loss: 0.6760 - val_categorical_accuracy: 0.8407\n",
      "Epoch 9/15\n",
      "383/383 [==============================] - 0s 825us/step - loss: 0.2656 - categorical_accuracy: 0.8562 - val_loss: 4.7456 - val_categorical_accuracy: 0.5352\n",
      "Epoch 10/15\n",
      "383/383 [==============================] - 0s 823us/step - loss: 0.3096 - categorical_accuracy: 0.8301 - val_loss: 1.2648 - val_categorical_accuracy: 0.9034\n",
      "Epoch 11/15\n",
      "383/383 [==============================] - 0s 904us/step - loss: 0.3952 - categorical_accuracy: 0.7843 - val_loss: 2.3790 - val_categorical_accuracy: 0.7859\n",
      "Epoch 12/15\n",
      "383/383 [==============================] - 0s 1ms/step - loss: 0.4089 - categorical_accuracy: 0.7771 - val_loss: 3.8907 - val_categorical_accuracy: 0.8433\n",
      "Epoch 13/15\n",
      "383/383 [==============================] - 0s 849us/step - loss: 0.4396 - categorical_accuracy: 0.7641 - val_loss: 4.0277 - val_categorical_accuracy: 0.8355\n",
      "Epoch 14/15\n",
      "383/383 [==============================] - 0s 836us/step - loss: 0.4482 - categorical_accuracy: 0.7542 - val_loss: 6.1686 - val_categorical_accuracy: 0.8016\n",
      "Epoch 15/15\n",
      "383/383 [==============================] - 0s 842us/step - loss: 0.4310 - categorical_accuracy: 0.7712 - val_loss: 3.9141 - val_categorical_accuracy: 0.7833\n"
     ]
    },
    {
     "data": {
      "text/plain": [
       "<tensorflow.python.keras.callbacks.History at 0x7f0c676d5d00>"
      ]
     },
     "execution_count": 11,
     "metadata": {},
     "output_type": "execute_result"
    }
   ],
   "source": [
    "model.fit(x=x_train,\n",
    "          y=y_train,\n",
    "          batch_size=BATCH_SIZE,\n",
    "          validation_split=0.2,\n",
    "          epochs=EPOCHS)"
   ]
  },
  {
   "cell_type": "code",
   "execution_count": 12,
   "id": "32a40b23-aee2-4a17-9f97-fa7025d7daa1",
   "metadata": {},
   "outputs": [
    {
     "name": "stdout",
     "output_type": "stream",
     "text": [
      "7/7 [==============================] - 0s 595us/step - loss: 4.4247 - categorical_accuracy: 0.7934\n"
     ]
    },
    {
     "data": {
      "text/plain": [
       "[4.4246954917907715, 0.7934272289276123]"
      ]
     },
     "execution_count": 12,
     "metadata": {},
     "output_type": "execute_result"
    }
   ],
   "source": [
    "model.evaluate(x=x_test,y=y_test)"
   ]
  },
  {
   "cell_type": "code",
   "execution_count": null,
   "id": "8337c2ed-b72d-4e85-bc49-69e936d3e57e",
   "metadata": {},
   "outputs": [],
   "source": []
  },
  {
   "cell_type": "code",
   "execution_count": null,
   "id": "c380871f-5d56-449d-9a94-0714d06995a5",
   "metadata": {},
   "outputs": [],
   "source": []
  }
 ],
 "metadata": {
  "kernelspec": {
   "display_name": "Python 3",
   "language": "python",
   "name": "python3"
  },
  "language_info": {
   "codemirror_mode": {
    "name": "ipython",
    "version": 3
   },
   "file_extension": ".py",
   "mimetype": "text/x-python",
   "name": "python",
   "nbconvert_exporter": "python",
   "pygments_lexer": "ipython3",
   "version": "3.8.10"
  }
 },
 "nbformat": 4,
 "nbformat_minor": 5
}
