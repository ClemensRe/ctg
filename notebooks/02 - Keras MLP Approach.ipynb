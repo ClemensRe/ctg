{
 "cells": [
  {
   "cell_type": "code",
   "execution_count": null,
   "id": "27613dc0-ce0e-4f6d-a216-326c97c29563",
   "metadata": {},
   "outputs": [],
   "source": [
    "import pathlib\n",
    "\n",
    "import matplotlib.pyplot as plt\n",
    "import numpy as np\n",
    "import pandas as pd\n",
    "import tensorflow as tf"
   ]
  },
  {
   "cell_type": "markdown",
   "id": "f7b8a54b-ff23-4f40-9997-8ca981165e8f",
   "metadata": {},
   "source": [
    "# Load Data"
   ]
  },
  {
   "cell_type": "code",
   "execution_count": null,
   "id": "cc8b89e4-1ee6-44c6-b10c-62196b7a09ad",
   "metadata": {},
   "outputs": [],
   "source": [
    "cleaned_data_path = pathlib.Path(\"../data/interim/ctg_cleaned_manually.xlsx\")\n",
    "data = pd.read_excel(cleaned_data_path, header=0)\n",
    "x_raw = data.loc[:, \"Min\":\"SUSP\"].to_numpy()\n",
    "y_raw_class = data.loc[:, \"CLASS\"].to_numpy()\n",
    "y_raw_nsp = data.loc[:, \"NSP\"].to_numpy()"
   ]
  },
  {
   "cell_type": "markdown",
   "id": "e9314ca5-3a59-4d91-8278-ed7a0c135d10",
   "metadata": {},
   "source": [
    "## One Hot Encoding for Categorical Crossentropy Loss"
   ]
  },
  {
   "cell_type": "code",
   "execution_count": null,
   "id": "5a1739cf-6728-439b-8f0c-4688c3e27bb6",
   "metadata": {},
   "outputs": [],
   "source": [
    "y_class_one_hot = tf.one_hot(indices=y_raw_class, depth=max(y_raw_class)).numpy()\n",
    "y_nsp_one_hot = tf.one_hot(indices=y_raw_nsp, depth=max(y_raw_nsp)).numpy()"
   ]
  },
  {
   "cell_type": "markdown",
   "id": "6ba4b8b0-c69e-4ff8-a62b-6de2d12b6184",
   "metadata": {},
   "source": [
    "### Split into Train and Test\n",
    "90% of the Data is Training Data"
   ]
  },
  {
   "cell_type": "code",
   "execution_count": null,
   "id": "b56edb69-6096-4297-baf6-dee48e827503",
   "metadata": {},
   "outputs": [],
   "source": [
    "x_train = x_raw[:1913]\n",
    "x_test = x_raw[1913:]\n",
    "y_train = y_nsp_one_hot[:1913]\n",
    "y_test = y_nsp_one_hot[1913:]"
   ]
  },
  {
   "cell_type": "markdown",
   "id": "28d347ae-9075-4b78-afeb-b84934f9abf4",
   "metadata": {},
   "source": [
    "## Baseline Model Creation"
   ]
  },
  {
   "cell_type": "code",
   "execution_count": null,
   "id": "74c58f38-fa38-4b59-88c6-498c23e2f4d0",
   "metadata": {},
   "outputs": [],
   "source": [
    "BATCH_SIZE = 4\n",
    "EPOCHS = 15"
   ]
  },
  {
   "cell_type": "code",
   "execution_count": null,
   "id": "de283b8b-980c-41d4-9f34-a36cf038015c",
   "metadata": {},
   "outputs": [],
   "source": [
    "model = tf.keras.Sequential()\n",
    "model.add(tf.keras.layers.Dense(units=19, activation=\"relu\"))\n",
    "model.add(tf.keras.layers.BatchNormalization())\n",
    "model.add(tf.keras.layers.Dense(units=128, activation=\"relu\"))\n",
    "model.add(tf.keras.layers.BatchNormalization())\n",
    "model.add(tf.keras.layers.Dense(units=3, activation=\"sigmoid\"))"
   ]
  },
  {
   "cell_type": "code",
   "execution_count": null,
   "id": "28cc6b1a-b159-4108-a6cb-f3a073e64416",
   "metadata": {},
   "outputs": [],
   "source": [
    "model.compile(\n",
    "    optimizer=\"adam\", loss=\"categorical_crossentropy\", metrics=\"categorical_accuracy\"\n",
    ")"
   ]
  },
  {
   "cell_type": "code",
   "execution_count": null,
   "id": "f4a45565-8b73-4d7a-abd6-c30e572cd2f1",
   "metadata": {},
   "outputs": [],
   "source": [
    "model.build(input_shape=(BATCH_SIZE, x_raw.shape[1]))"
   ]
  },
  {
   "cell_type": "code",
   "execution_count": null,
   "id": "5996fe7b-6d01-4bcd-86f6-b4533962832f",
   "metadata": {},
   "outputs": [],
   "source": [
    "model.summary()"
   ]
  },
  {
   "cell_type": "code",
   "execution_count": null,
   "id": "dbff4c3a-e3f4-49bd-a3ee-fefca3002406",
   "metadata": {},
   "outputs": [],
   "source": [
    "history = model.fit(\n",
    "    x=x_train, y=y_train, batch_size=BATCH_SIZE, validation_split=0.2, epochs=EPOCHS\n",
    ")"
   ]
  },
  {
   "cell_type": "code",
   "execution_count": null,
   "id": "19275fde-7212-4110-bfae-7c419e0aeb21",
   "metadata": {},
   "outputs": [],
   "source": [
    "history.history.keys()"
   ]
  },
  {
   "cell_type": "code",
   "execution_count": null,
   "id": "af945497-82f1-4428-8484-98a7530245d2",
   "metadata": {},
   "outputs": [],
   "source": [
    "plt.plot(history.history[\"loss\"])\n",
    "plt.plot(history.history[\"val_loss\"])"
   ]
  },
  {
   "cell_type": "code",
   "execution_count": null,
   "id": "214c997c-e96a-421e-903f-17b66520d642",
   "metadata": {},
   "outputs": [],
   "source": [
    "plt.plot(history.history[\"categorical_accuracy\"])\n",
    "plt.plot(history.history[\"val_categorical_accuracy\"])"
   ]
  },
  {
   "cell_type": "code",
   "execution_count": null,
   "id": "32a40b23-aee2-4a17-9f97-fa7025d7daa1",
   "metadata": {},
   "outputs": [],
   "source": [
    "model.evaluate(x=x_test, y=y_test)"
   ]
  },
  {
   "cell_type": "code",
   "execution_count": null,
   "id": "8337c2ed-b72d-4e85-bc49-69e936d3e57e",
   "metadata": {},
   "outputs": [],
   "source": [
    "model.save(\"../models/baseline_keras\")"
   ]
  },
  {
   "cell_type": "code",
   "execution_count": null,
   "id": "c380871f-5d56-449d-9a94-0714d06995a5",
   "metadata": {},
   "outputs": [],
   "source": [
    "%%timeit\n",
    "model.predict(x_test[0:1])"
   ]
  }
 ],
 "metadata": {
  "kernelspec": {
   "display_name": "Python 3 (ipykernel)",
   "language": "python",
   "name": "python3"
  },
  "language_info": {
   "codemirror_mode": {
    "name": "ipython",
    "version": 3
   },
   "file_extension": ".py",
   "mimetype": "text/x-python",
   "name": "python",
   "nbconvert_exporter": "python",
   "pygments_lexer": "ipython3",
   "version": "3.8.10"
  }
 },
 "nbformat": 4,
 "nbformat_minor": 5
}
