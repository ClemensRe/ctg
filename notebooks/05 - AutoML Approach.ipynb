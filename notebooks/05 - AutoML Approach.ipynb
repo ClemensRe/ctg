{
 "cells": [
  {
   "cell_type": "code",
   "execution_count": null,
   "id": "312dcda6",
   "metadata": {},
   "outputs": [],
   "source": [
    "import pathlib\n",
    "\n",
    "import autosklearn.classification\n",
    "import numpy as np\n",
    "import pandas as pd\n",
    "import sklearn.datasets\n",
    "import sklearn.metrics\n",
    "import tensorflow as tf\n",
    "from sklearn.utils.multiclass import type_of_target"
   ]
  },
  {
   "cell_type": "code",
   "execution_count": null,
   "id": "fd79fbac",
   "metadata": {},
   "outputs": [],
   "source": [
    "cleaned_data_path = pathlib.Path(\"../data/interim/ctg_cleaned_manually.xlsx\")\n",
    "data = pd.read_excel(cleaned_data_path, header=0)\n",
    "x_raw = data.loc[:, \"Min\":\"SUSP\"].to_numpy()\n",
    "y_raw_class = data.loc[:, \"CLASS\"].to_numpy()\n",
    "y_raw_nsp = data.loc[:, \"NSP\"].to_numpy()"
   ]
  },
  {
   "cell_type": "code",
   "execution_count": null,
   "id": "a011024f",
   "metadata": {},
   "outputs": [],
   "source": [
    "y_class_one_hot = tf.one_hot(indices=y_raw_class, depth=max(y_raw_class)).numpy()\n",
    "y_nsp_one_hot = tf.one_hot(indices=y_raw_nsp, depth=max(y_raw_nsp)).numpy()"
   ]
  },
  {
   "cell_type": "code",
   "execution_count": null,
   "id": "61a75324",
   "metadata": {},
   "outputs": [],
   "source": [
    "x_train = x_raw[:1913]\n",
    "x_test = x_raw[1913:]\n",
    "y_train = y_raw_nsp[:1913]\n",
    "y_test = y_raw_nsp[1913:]"
   ]
  },
  {
   "cell_type": "code",
   "execution_count": null,
   "id": "cc65374f",
   "metadata": {},
   "outputs": [],
   "source": [
    "automl = autosklearn.classification.AutoSklearnClassifier(\n",
    "    time_left_for_this_task=60,\n",
    "    per_run_time_limit=30,\n",
    "    initial_configurations_via_metalearning=0,\n",
    "    smac_scenario_args={\"runcount_limit\": 1},\n",
    ")"
   ]
  },
  {
   "cell_type": "code",
   "execution_count": null,
   "id": "d248a648",
   "metadata": {},
   "outputs": [],
   "source": [
    "automl.fit(x_train, y_train)"
   ]
  },
  {
   "cell_type": "code",
   "execution_count": null,
   "id": "b747ac02",
   "metadata": {},
   "outputs": [],
   "source": [
    "print(automl.show_models())"
   ]
  },
  {
   "cell_type": "code",
   "execution_count": null,
   "id": "bbce8a14",
   "metadata": {},
   "outputs": [],
   "source": [
    "print(automl.sprint_statistics())"
   ]
  },
  {
   "cell_type": "code",
   "execution_count": null,
   "id": "c19e4462",
   "metadata": {},
   "outputs": [],
   "source": [
    "predictions = automl.predict(x_test)\n",
    "print(\"Accuracy score\", sklearn.metrics.accuracy_score(y_test, predictions))"
   ]
  },
  {
   "cell_type": "code",
   "execution_count": null,
   "id": "bfb1ecb3",
   "metadata": {},
   "outputs": [],
   "source": [
    "sklearn.metrics.confusion_matrix(y_test, predictions)"
   ]
  },
  {
   "cell_type": "code",
   "execution_count": null,
   "metadata": {},
   "outputs": [],
   "source": [
    "%%timeit\n",
    "automl.predict(x_test[0:1])"
   ]
  }
 ],
 "metadata": {
  "kernelspec": {
   "display_name": "Python 3 (ipykernel)",
   "language": "python",
   "name": "python3"
  },
  "language_info": {
   "codemirror_mode": {
    "name": "ipython",
    "version": 3
   },
   "file_extension": ".py",
   "mimetype": "text/x-python",
   "name": "python",
   "nbconvert_exporter": "python",
   "pygments_lexer": "ipython3",
   "version": "3.8.10"
  }
 },
 "nbformat": 4,
 "nbformat_minor": 5
}
