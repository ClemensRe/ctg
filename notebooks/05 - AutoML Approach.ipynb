{
 "cells": [
  {
   "cell_type": "code",
   "execution_count": 1,
   "id": "312dcda6",
   "metadata": {},
   "outputs": [],
   "source": [
    "import numpy as np\n",
    "import pathlib\n",
    "import pandas as pd\n",
    "\n",
    "import sklearn.datasets\n",
    "import sklearn.metrics\n",
    "from sklearn.utils.multiclass import type_of_target\n",
    "\n",
    "import autosklearn.classification\n",
    "import tensorflow as tf"
   ]
  },
  {
   "cell_type": "code",
   "execution_count": 2,
   "id": "fd79fbac",
   "metadata": {},
   "outputs": [],
   "source": [
    "cleaned_data_path = pathlib.Path(\"../data/interim/ctg_cleaned_manually.xlsx\")\n",
    "data = pd.read_excel(cleaned_data_path,header=0)\n",
    "x_raw = data.loc[:, \"Min\":\"SUSP\"].to_numpy()\n",
    "y_raw_class = data.loc[:, \"CLASS\"].to_numpy()\n",
    "y_raw_nsp = data.loc[:, \"NSP\"].to_numpy()"
   ]
  },
  {
   "cell_type": "code",
   "execution_count": 3,
   "id": "a011024f",
   "metadata": {},
   "outputs": [],
   "source": [
    "y_class_one_hot  = tf.one_hot(indices=y_raw_class,depth=max(y_raw_class)).numpy()\n",
    "y_nsp_one_hot = tf.one_hot(indices=y_raw_nsp,depth=max(y_raw_nsp)).numpy()"
   ]
  },
  {
   "cell_type": "code",
   "execution_count": 36,
   "id": "61a75324",
   "metadata": {},
   "outputs": [],
   "source": [
    "x_train = x_raw[:1913]\n",
    "x_test = x_raw[1913:]\n",
    "y_train = y_raw_nsp[:1913]\n",
    "y_test = y_raw_nsp[1913:]"
   ]
  },
  {
   "cell_type": "code",
   "execution_count": 37,
   "id": "cc65374f",
   "metadata": {},
   "outputs": [],
   "source": [
    "automl = autosklearn.classification.AutoSklearnClassifier(\n",
    "    time_left_for_this_task=60,\n",
    "    per_run_time_limit=30,\n",
    "    initial_configurations_via_metalearning=0,\n",
    "    smac_scenario_args={'runcount_limit': 1},\n",
    "    \n",
    ")"
   ]
  },
  {
   "cell_type": "code",
   "execution_count": 38,
   "id": "d248a648",
   "metadata": {},
   "outputs": [
    {
     "name": "stdout",
     "output_type": "stream",
     "text": [
      "[WARNING] [2021-07-19 11:10:08,581:Client-AutoML(1):1d410eda-e871-11eb-aea7-51a0d96ebc6e] Unknown dtype for X: int64, assuming it takes 8 bit/number\n",
      "[WARNING] [2021-07-19 11:10:08,855:Client-AutoML(1):1d410eda-e871-11eb-aea7-51a0d96ebc6e] Capping the per_run_time_limit to 29.0 to have time for a least 2 models in each process.\n"
     ]
    },
    {
     "data": {
      "text/plain": [
       "AutoSklearnClassifier(initial_configurations_via_metalearning=0,\n",
       "                      per_run_time_limit=30,\n",
       "                      smac_scenario_args={'runcount_limit': 1},\n",
       "                      time_left_for_this_task=60)"
      ]
     },
     "execution_count": 38,
     "metadata": {},
     "output_type": "execute_result"
    }
   ],
   "source": [
    "automl.fit(x_train, y_train)"
   ]
  },
  {
   "cell_type": "code",
   "execution_count": 39,
   "id": "b747ac02",
   "metadata": {},
   "outputs": [
    {
     "name": "stdout",
     "output_type": "stream",
     "text": [
      "[(1.000000, SimpleClassificationPipeline({'balancing:strategy': 'none', 'classifier:__choice__': 'random_forest', 'data_preprocessing:categorical_transformer:categorical_encoding:__choice__': 'one_hot_encoding', 'data_preprocessing:categorical_transformer:category_coalescence:__choice__': 'minority_coalescer', 'data_preprocessing:numerical_transformer:imputation:strategy': 'mean', 'data_preprocessing:numerical_transformer:rescaling:__choice__': 'standardize', 'feature_preprocessor:__choice__': 'no_preprocessing', 'classifier:random_forest:bootstrap': 'True', 'classifier:random_forest:criterion': 'gini', 'classifier:random_forest:max_depth': 'None', 'classifier:random_forest:max_features': 0.5, 'classifier:random_forest:max_leaf_nodes': 'None', 'classifier:random_forest:min_impurity_decrease': 0.0, 'classifier:random_forest:min_samples_leaf': 1, 'classifier:random_forest:min_samples_split': 2, 'classifier:random_forest:min_weight_fraction_leaf': 0.0, 'data_preprocessing:categorical_transformer:category_coalescence:minority_coalescer:minimum_fraction': 0.01},\n",
      "dataset_properties={\n",
      "  'task': 2,\n",
      "  'sparse': False,\n",
      "  'multilabel': False,\n",
      "  'multiclass': True,\n",
      "  'target_type': 'classification',\n",
      "  'signed': False})),\n",
      "]\n"
     ]
    }
   ],
   "source": [
    "print(automl.show_models())"
   ]
  },
  {
   "cell_type": "code",
   "execution_count": 40,
   "id": "bbce8a14",
   "metadata": {},
   "outputs": [
    {
     "name": "stdout",
     "output_type": "stream",
     "text": [
      "auto-sklearn results:\n",
      "  Dataset name: 1d410eda-e871-11eb-aea7-51a0d96ebc6e\n",
      "  Metric: accuracy\n",
      "  Best validation score: 0.985759\n",
      "  Number of target algorithm runs: 1\n",
      "  Number of successful target algorithm runs: 1\n",
      "  Number of crashed target algorithm runs: 0\n",
      "  Number of target algorithms that exceeded the time limit: 0\n",
      "  Number of target algorithms that exceeded the memory limit: 0\n",
      "\n"
     ]
    }
   ],
   "source": [
    "print(automl.sprint_statistics())"
   ]
  },
  {
   "cell_type": "code",
   "execution_count": 41,
   "id": "c19e4462",
   "metadata": {},
   "outputs": [
    {
     "name": "stdout",
     "output_type": "stream",
     "text": [
      "Accuracy score 0.9953051643192489\n"
     ]
    }
   ],
   "source": [
    "predictions = automl.predict(x_test)\n",
    "print(\"Accuracy score\", sklearn.metrics.accuracy_score(y_test, predictions))"
   ]
  },
  {
   "cell_type": "code",
   "execution_count": 42,
   "id": "bfb1ecb3",
   "metadata": {},
   "outputs": [
    {
     "data": {
      "text/plain": [
       "array([[171,   0,   0],\n",
       "       [  1,   4,   0],\n",
       "       [  0,   0,  37]])"
      ]
     },
     "execution_count": 42,
     "metadata": {},
     "output_type": "execute_result"
    }
   ],
   "source": [
    "sklearn.metrics.confusion_matrix(y_test, predictions)"
   ]
  },
  {
   "cell_type": "code",
   "execution_count": null,
   "id": "77bf8679",
   "metadata": {},
   "outputs": [],
   "source": []
  }
 ],
 "metadata": {
  "kernelspec": {
   "display_name": "Python 3",
   "language": "python",
   "name": "python3"
  },
  "language_info": {
   "codemirror_mode": {
    "name": "ipython",
    "version": 3
   },
   "file_extension": ".py",
   "mimetype": "text/x-python",
   "name": "python",
   "nbconvert_exporter": "python",
   "pygments_lexer": "ipython3",
   "version": "3.8.10"
  }
 },
 "nbformat": 4,
 "nbformat_minor": 5
}
